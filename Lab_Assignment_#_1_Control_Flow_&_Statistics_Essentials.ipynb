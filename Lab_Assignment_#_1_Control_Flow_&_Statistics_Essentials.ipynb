{
 "cells": [
  {
   "cell_type": "markdown",
   "metadata": {},
   "source": [
    "# Lab Assignment # 1 - Control Flow & Statistics Essentials"
   ]
  },
  {
   "cell_type": "markdown",
   "metadata": {},
   "source": [
    "### Import Libraries\n",
    "Properly import All Python Libraries you need for this assignment. (i.e. numpy, pandas, matplotlib, seaborn)"
   ]
  },
  {
   "cell_type": "code",
   "execution_count": null,
   "metadata": {},
   "outputs": [],
   "source": []
  },
  {
   "cell_type": "markdown",
   "metadata": {},
   "source": [
    "### Problem 1\n",
    "Write a Python script that assigns a value to variable “age” and uses that information about\n",
    "a person to determine if he/she is in high school. Assume that for a person to be in high\n",
    "school, their age should be between 14 and 18. You do not have to write a complicated\n",
    "code – simple and logical code is enough."
   ]
  },
  {
   "cell_type": "code",
   "execution_count": null,
   "metadata": {},
   "outputs": [],
   "source": []
  },
  {
   "cell_type": "markdown",
   "metadata": {},
   "source": [
    "### Problem 2\n",
    "The following are weight values (in pounds) for 20 people:\n",
    "164, 158, 172, 153, 144, 156, 189, 163, 134, 159, 143, 176, 177, 162, 141, 151, 182, 185,\n",
    "171, 152.\n",
    "Using Python, find the mean, median, and standard deviation; and then plot a histogram."
   ]
  },
  {
   "cell_type": "code",
   "execution_count": null,
   "metadata": {},
   "outputs": [],
   "source": []
  },
  {
   "cell_type": "markdown",
   "metadata": {},
   "source": [
    "### Problem 3: Daily Demand Forecasting\n",
    "For this hands-on problem, you will need the Daily Demand Forecasting Orders dataset from the UCI machine learning repository, comprising 60 days of data from a Brazilian company of large logistics. \n",
    "The dataset has 13 attributes including 12 predictors and the target attribute, total of orders per day. \n",
    "Use this dataset to practice calculating the minimum, maximum, range, and average for all the attributes. \n",
    "Plot the data per attribute in a bar graph to visualize the distribution.\n",
    "\n",
    "Your Task is to do the following:\n",
    "- Load datafile into Panda dataframe (data file available in the blackboard: 'Daily_Demand_Forecasting_Orders_Clean.csv')\n",
    "- Show the dataframe\n",
    "- Calculate related summary statistics for all variables (you may use describe() function)\n",
    "- Show data distributions (plot Histogram for all variables), make a breif comment on their types.\n",
    "- Show correlation matrix for all variables\n",
    "- Visualize the relationship between any two columns using Scatterplot. Breifly describe the correlation."
   ]
  },
  {
   "cell_type": "code",
   "execution_count": null,
   "metadata": {},
   "outputs": [],
   "source": []
  },
  {
   "cell_type": "markdown",
   "metadata": {},
   "source": [
    "### Finally, Submit Your Work to the Blackboard\n",
    "Save and upload your work in three different formats:\n",
    "- Jupyter Norebook (.ipynb), with all output\n",
    "- Python file (File --> download as Python (.py))\n",
    "- HTML Document (File --> download as HTML (.html))"
   ]
  },
  {
   "cell_type": "code",
   "execution_count": null,
   "metadata": {},
   "outputs": [],
   "source": []
  }
 ],
 "metadata": {
  "kernelspec": {
   "display_name": "Python 3",
   "language": "python",
   "name": "python3"
  },
  "language_info": {
   "codemirror_mode": {
    "name": "ipython",
    "version": 3
   },
   "file_extension": ".py",
   "mimetype": "text/x-python",
   "name": "python",
   "nbconvert_exporter": "python",
   "pygments_lexer": "ipython3",
   "version": "3.8.5"
  }
 },
 "nbformat": 4,
 "nbformat_minor": 4
}
